{
 "cells": [
  {
   "cell_type": "markdown",
   "metadata": {},
   "source": [
    "## English Wikipedia page views, 2008 - 2017\n",
    "\n",
    "This notebook demostrates how to fetch data for Wikipedia page views. The notebook structured into 3 different section with sub-section to highlight different processes:\n",
    "## Contents\n",
    "  \n",
    "[1. Dataset acquisition](#1)      \n",
    "&thinsp;&thinsp;&thinsp;&thinsp; [1.1 Legacy Pagecounts API](#1.1)    \n",
    "&thinsp;&thinsp;&thinsp;&thinsp; [1.2 Pageview API](#1.2)  \n",
    "\n",
    "[2.Data pre-processing](#2)  \n",
    "\n",
    "[3.Visualization](#3)     "
   ]
  },
  {
   "cell_type": "code",
   "execution_count": 1,
   "metadata": {
    "ExecuteTime": {
     "end_time": "2018-10-18T18:32:20.251048Z",
     "start_time": "2018-10-18T18:32:19.677472Z"
    }
   },
   "outputs": [],
   "source": [
    "import requests\n",
    "import pandas as pd\n",
    "import json\n",
    "import glob\n",
    "import os\n",
    "import matplotlib.pyplot as plt\n",
    "import datetime"
   ]
  },
  {
   "cell_type": "markdown",
   "metadata": {},
   "source": [
    "<br>\n",
    "<a id=\"1\">1. Dataset acquisition</a>\n",
    "\n",
    "This step involves using two different Wikimedia API endpoints for two different date ranges:\n",
    "\n",
    "    1)Legacy Pagecounts API - Provides access to desktop and mobile traffic data from December 2007 through July 2016.\n",
    "    \n",
    "    2)Pageviews API - Provides access to desktop, mobile web, and mobile app traffic data from July 2015 through last month."
   ]
  },
  {
   "cell_type": "code",
   "execution_count": 2,
   "metadata": {
    "ExecuteTime": {
     "end_time": "2018-10-18T18:32:20.412633Z",
     "start_time": "2018-10-18T18:32:20.253373Z"
    }
   },
   "outputs": [
    {
     "name": "stdout",
     "output_type": "stream",
     "text": [
      "mkdir: cannot create directory ‘data’: File exists\r\n"
     ]
    }
   ],
   "source": [
    "#define two endpoints of API to fetch data from.\n",
    "\n",
    "endpoint_legacy = 'https://wikimedia.org/api/rest_v1/metrics/legacy/pagecounts/aggregate/{project}/{access}/{granularity}/{start}/{end}'\n",
    "endpoint_pageview = 'https://wikimedia.org/api/rest_v1/metrics/pageviews/aggregate/{project}/{access}/{agent}/{granularity}/{start}/{end}'\n",
    "\n",
    "headers={'User-Agent' : 'https://github.com/pshivraj', 'From' : 'pshivraj@uw.edu'}\n",
    "\n",
    "#define a dict with similar params for both API.\n",
    "global_params = {'project' : 'en.wikipedia.org',\n",
    "            'granularity' : 'monthly',\n",
    "         }\n",
    "#make data folder\n",
    "!mkdir data"
   ]
  },
  {
   "cell_type": "code",
   "execution_count": 3,
   "metadata": {
    "ExecuteTime": {
     "end_time": "2018-10-18T18:32:20.434347Z",
     "start_time": "2018-10-18T18:32:20.420243Z"
    }
   },
   "outputs": [],
   "source": [
    "def page_count_api(data_type,access, start, end):\n",
    "    \"\"\"\n",
    "        Utility function to write json files\n",
    "        : param data_type: type of API to use.\n",
    "                access: nature of traffic data.\n",
    "                start: start date\n",
    "                end: end date\n",
    "        : outputs json files\n",
    "    \"\"\"\n",
    "    params = {\n",
    "        \"access\" : access,\n",
    "        \"start\" : start,\n",
    "        \"end\" : end\n",
    "    }\n",
    "    params.update(global_params)\n",
    "    if data_type == 'pagecounts':\n",
    "        endpoint = endpoint_legacy\n",
    "    elif data_type == 'pageviews': # conditional statement to add extra agent header for pageviews api.\n",
    "        endpoint = endpoint_pageview\n",
    "        params_agent = {\n",
    "            \"agent\" : 'user'\n",
    "        }\n",
    "        params.update(params_agent)\n",
    "    print(params)\n",
    "    api_request = requests.get(endpoint.format(**params),headers=headers)\n",
    "    file_name = \"{}_{}_{}_{}.json\".format(data_type, access, start, end)\n",
    "    data = api_request.json()\n",
    "    with open('data/' + file_name, 'w') as outfile:\n",
    "        json.dump(data, outfile)"
   ]
  },
  {
   "cell_type": "markdown",
   "metadata": {},
   "source": [
    "<br>\n",
    "<a id=\"1.1\">1.1 Legacy Pagecounts API</a>"
   ]
  },
  {
   "cell_type": "markdown",
   "metadata": {},
   "source": [
    "This API endpoint would let us fetch data from December 2007 till July 2016.\n",
    "we'll fetch data for:\n",
    "\n",
    "    1)desktop-site\n",
    "    2)mobile-site"
   ]
  },
  {
   "cell_type": "code",
   "execution_count": 4,
   "metadata": {
    "ExecuteTime": {
     "end_time": "2018-10-18T18:32:20.768351Z",
     "start_time": "2018-10-18T18:32:20.438586Z"
    }
   },
   "outputs": [
    {
     "name": "stdout",
     "output_type": "stream",
     "text": [
      "{'access': 'desktop-site', 'start': '2007120100', 'end': '2016080100', 'project': 'en.wikipedia.org', 'granularity': 'monthly'}\n",
      "{'access': 'mobile-site', 'start': '2007120100', 'end': '2016080100', 'project': 'en.wikipedia.org', 'granularity': 'monthly'}\n"
     ]
    }
   ],
   "source": [
    "# declaring variables for pagecount api and writing data to local data folder.\n",
    "start_legacy, end_legacy = '2007120100', '2016080100'\n",
    "page_count_api('pagecounts','desktop-site', start_legacy, end_legacy)\n",
    "page_count_api('pagecounts','mobile-site', start_legacy, end_legacy)"
   ]
  },
  {
   "cell_type": "markdown",
   "metadata": {},
   "source": [
    "<br>\n",
    "<a id=\"1.2\">1.2 Pageview API</a>\n",
    "\n",
    "This API endpoint would let us fetch data from July 2015 through September 2018.\n",
    "we'll fetch data for:\n",
    "\n",
    "    1)desktop\n",
    "    2)mobile-app\n",
    "    3)mobile-web"
   ]
  },
  {
   "cell_type": "code",
   "execution_count": 5,
   "metadata": {
    "ExecuteTime": {
     "end_time": "2018-10-18T18:32:21.192121Z",
     "start_time": "2018-10-18T18:32:20.770160Z"
    }
   },
   "outputs": [
    {
     "name": "stdout",
     "output_type": "stream",
     "text": [
      "{'access': 'desktop', 'start': '2015070100', 'end': '2018100100', 'project': 'en.wikipedia.org', 'granularity': 'monthly', 'agent': 'user'}\n",
      "{'access': 'mobile-app', 'start': '2015070100', 'end': '2018100100', 'project': 'en.wikipedia.org', 'granularity': 'monthly', 'agent': 'user'}\n",
      "{'access': 'mobile-web', 'start': '2015070100', 'end': '2018100100', 'project': 'en.wikipedia.org', 'granularity': 'monthly', 'agent': 'user'}\n"
     ]
    }
   ],
   "source": [
    "# declaring variables for pageview api and writing data to local data folder.\n",
    "start_pageview, end_pageview = '2015070100', '2018100100'\n",
    "page_count_api('pageviews','desktop', start_pageview, end_pageview)\n",
    "page_count_api('pageviews','mobile-app', start_pageview, end_pageview)\n",
    "page_count_api('pageviews','mobile-web', start_pageview, end_pageview)"
   ]
  },
  {
   "cell_type": "markdown",
   "metadata": {},
   "source": [
    "<br>\n",
    "<a id=\"2\">2. Data pre-processing</a>"
   ]
  },
  {
   "cell_type": "code",
   "execution_count": 6,
   "metadata": {
    "ExecuteTime": {
     "end_time": "2018-10-18T18:32:21.201168Z",
     "start_time": "2018-10-18T18:32:21.193553Z"
    }
   },
   "outputs": [],
   "source": [
    "# read all json files obtained from the pagecount and pageview api.\n",
    "json_files = glob.glob(os.getcwd() + \"/data/*.json\")\n",
    "data = []\n",
    "filenames = []\n",
    "for files in json_files:\n",
    "    with open(files, \"r\") as f:\n",
    "        file = \"{}\".format(files.split('/')[-1])\n",
    "        filenames.append(file)\n",
    "        data.append(json.loads(f.read()))"
   ]
  },
  {
   "cell_type": "code",
   "execution_count": 7,
   "metadata": {
    "ExecuteTime": {
     "end_time": "2018-10-18T18:32:21.230380Z",
     "start_time": "2018-10-18T18:32:21.203152Z"
    }
   },
   "outputs": [],
   "source": [
    "\n",
    "def get_dataframe(data_type, json_path):\n",
    "    \"\"\"\n",
    "        Utility function to write json files\n",
    "        : param data_type: type of API data from pageview or pagecount API.\n",
    "                json_path: file path of json to read.\n",
    "        : return pandas Dataframe\n",
    "    \"\"\"\n",
    "    year = []\n",
    "    month = []\n",
    "    api_data = []\n",
    "    with open('data/' + json_path) as file:    \n",
    "        data = json.load(file)\n",
    "    for data_val in data['items']:\n",
    "        year.append(str(data_val['timestamp'])[:4])  # strip year from the string\n",
    "        month.append(str(data_val['timestamp'])[4:6])  # strip month from the string\n",
    "        if data_type.startswith('pagecounts'):\n",
    "            api_data.append(data_val['count'])\n",
    "        elif data_type.startswith('pageviews'):\n",
    "            api_data.append(data_val['views'])\n",
    "    return pd.DataFrame({'year': year,\n",
    "                         'month': month,\n",
    "                         data_type: api_data\n",
    "                        })\n",
    "\n",
    "# reading all json files into dataframe.\n",
    "pagecounts_desktop = get_dataframe('pagecounts_desktop', 'pagecounts_desktop-site_2007120100_2016080100.json')\n",
    "pagecounts_mobile_site = get_dataframe('pagecounts_mobile_site', 'pagecounts_mobile-site_2007120100_2016080100.json')\n",
    "pageviews_desktop = get_dataframe('pageviews_desktop', 'pageviews_desktop_2015070100_2018100100.json')\n",
    "pageviews_mobile_app = get_dataframe('pageviews_mobile_app', 'pageviews_mobile-app_2015070100_2018100100.json')\n",
    "pageviews_mobile_web = get_dataframe('pageviews_mobile_web', 'pageviews_mobile-web_2015070100_2018100100.json')"
   ]
  },
  {
   "cell_type": "code",
   "execution_count": 8,
   "metadata": {
    "ExecuteTime": {
     "end_time": "2018-10-18T18:32:21.272672Z",
     "start_time": "2018-10-18T18:32:21.232778Z"
    }
   },
   "outputs": [
    {
     "data": {
      "text/html": [
       "<div>\n",
       "<style scoped>\n",
       "    .dataframe tbody tr th:only-of-type {\n",
       "        vertical-align: middle;\n",
       "    }\n",
       "\n",
       "    .dataframe tbody tr th {\n",
       "        vertical-align: top;\n",
       "    }\n",
       "\n",
       "    .dataframe thead th {\n",
       "        text-align: right;\n",
       "    }\n",
       "</style>\n",
       "<table border=\"1\" class=\"dataframe\">\n",
       "  <thead>\n",
       "    <tr style=\"text-align: right;\">\n",
       "      <th></th>\n",
       "      <th>year</th>\n",
       "      <th>month</th>\n",
       "      <th>pageview_mobile_views</th>\n",
       "      <th>pageviews_desktop</th>\n",
       "      <th>pageview_all_views</th>\n",
       "    </tr>\n",
       "  </thead>\n",
       "  <tbody>\n",
       "    <tr>\n",
       "      <th>0</th>\n",
       "      <td>2015</td>\n",
       "      <td>07</td>\n",
       "      <td>3288755294</td>\n",
       "      <td>4376666686</td>\n",
       "      <td>7665421980</td>\n",
       "    </tr>\n",
       "    <tr>\n",
       "      <th>1</th>\n",
       "      <td>2015</td>\n",
       "      <td>08</td>\n",
       "      <td>3302333038</td>\n",
       "      <td>4332482183</td>\n",
       "      <td>7634815221</td>\n",
       "    </tr>\n",
       "    <tr>\n",
       "      <th>2</th>\n",
       "      <td>2015</td>\n",
       "      <td>09</td>\n",
       "      <td>3170203333</td>\n",
       "      <td>4485491704</td>\n",
       "      <td>7655695037</td>\n",
       "    </tr>\n",
       "    <tr>\n",
       "      <th>3</th>\n",
       "      <td>2015</td>\n",
       "      <td>10</td>\n",
       "      <td>3268499132</td>\n",
       "      <td>4477532755</td>\n",
       "      <td>7746031887</td>\n",
       "    </tr>\n",
       "    <tr>\n",
       "      <th>4</th>\n",
       "      <td>2015</td>\n",
       "      <td>11</td>\n",
       "      <td>3236601070</td>\n",
       "      <td>4287720220</td>\n",
       "      <td>7524321290</td>\n",
       "    </tr>\n",
       "  </tbody>\n",
       "</table>\n",
       "</div>"
      ],
      "text/plain": [
       "   year month  pageview_mobile_views  pageviews_desktop  pageview_all_views\n",
       "0  2015    07             3288755294         4376666686          7665421980\n",
       "1  2015    08             3302333038         4332482183          7634815221\n",
       "2  2015    09             3170203333         4485491704          7655695037\n",
       "3  2015    10             3268499132         4477532755          7746031887\n",
       "4  2015    11             3236601070         4287720220          7524321290"
      ]
     },
     "execution_count": 8,
     "metadata": {},
     "output_type": "execute_result"
    }
   ],
   "source": [
    "#generating single pandas dataframe for pageview api data.\n",
    "pageviews_mobile = pd.merge(pageviews_mobile_app, pageviews_mobile_web, on=['year', 'month'])\n",
    "pageviews_mobile['pageview_mobile_views'] = pageviews_mobile['pageviews_mobile_app'] + pageviews_mobile['pageviews_mobile_web']\n",
    "\n",
    "pageviews = pd.merge(pageviews_mobile, pageviews_desktop, on=['year', 'month'], how='outer')\n",
    "\n",
    "pageviews['pageview_all_views'] = pageviews['pageviews_desktop'] + pageviews['pageview_mobile_views']\n",
    "pageviews = pageviews.drop(['pageviews_mobile_app', 'pageviews_mobile_web'], axis=1)\n",
    "pageviews.head(5)"
   ]
  },
  {
   "cell_type": "code",
   "execution_count": 9,
   "metadata": {
    "ExecuteTime": {
     "end_time": "2018-10-18T18:32:21.297332Z",
     "start_time": "2018-10-18T18:32:21.274508Z"
    }
   },
   "outputs": [
    {
     "data": {
      "text/html": [
       "<div>\n",
       "<style scoped>\n",
       "    .dataframe tbody tr th:only-of-type {\n",
       "        vertical-align: middle;\n",
       "    }\n",
       "\n",
       "    .dataframe tbody tr th {\n",
       "        vertical-align: top;\n",
       "    }\n",
       "\n",
       "    .dataframe thead th {\n",
       "        text-align: right;\n",
       "    }\n",
       "</style>\n",
       "<table border=\"1\" class=\"dataframe\">\n",
       "  <thead>\n",
       "    <tr style=\"text-align: right;\">\n",
       "      <th></th>\n",
       "      <th>year</th>\n",
       "      <th>month</th>\n",
       "      <th>pagecounts_desktop</th>\n",
       "      <th>pagecounts_mobile_site</th>\n",
       "      <th>pagecount_all_views</th>\n",
       "    </tr>\n",
       "  </thead>\n",
       "  <tbody>\n",
       "    <tr>\n",
       "      <th>0</th>\n",
       "      <td>2007</td>\n",
       "      <td>12</td>\n",
       "      <td>2998331524</td>\n",
       "      <td>NaN</td>\n",
       "      <td>NaN</td>\n",
       "    </tr>\n",
       "    <tr>\n",
       "      <th>1</th>\n",
       "      <td>2008</td>\n",
       "      <td>01</td>\n",
       "      <td>4930902570</td>\n",
       "      <td>NaN</td>\n",
       "      <td>NaN</td>\n",
       "    </tr>\n",
       "    <tr>\n",
       "      <th>2</th>\n",
       "      <td>2008</td>\n",
       "      <td>02</td>\n",
       "      <td>4818393763</td>\n",
       "      <td>NaN</td>\n",
       "      <td>NaN</td>\n",
       "    </tr>\n",
       "    <tr>\n",
       "      <th>3</th>\n",
       "      <td>2008</td>\n",
       "      <td>03</td>\n",
       "      <td>4955405809</td>\n",
       "      <td>NaN</td>\n",
       "      <td>NaN</td>\n",
       "    </tr>\n",
       "    <tr>\n",
       "      <th>4</th>\n",
       "      <td>2008</td>\n",
       "      <td>04</td>\n",
       "      <td>5159162183</td>\n",
       "      <td>NaN</td>\n",
       "      <td>NaN</td>\n",
       "    </tr>\n",
       "  </tbody>\n",
       "</table>\n",
       "</div>"
      ],
      "text/plain": [
       "   year month  pagecounts_desktop  pagecounts_mobile_site  pagecount_all_views\n",
       "0  2007    12          2998331524                     NaN                  NaN\n",
       "1  2008    01          4930902570                     NaN                  NaN\n",
       "2  2008    02          4818393763                     NaN                  NaN\n",
       "3  2008    03          4955405809                     NaN                  NaN\n",
       "4  2008    04          5159162183                     NaN                  NaN"
      ]
     },
     "execution_count": 9,
     "metadata": {},
     "output_type": "execute_result"
    }
   ],
   "source": [
    "#generating single pandas dataframe for pagecount api data.\n",
    "pagecounts = pd.merge(pagecounts_desktop, pagecounts_mobile_site, on=['year', 'month'], how='outer')\n",
    "\n",
    "pagecounts['pagecount_all_views'] = pagecounts['pagecounts_desktop'] + pagecounts['pagecounts_mobile_site']\n",
    "pagecounts.head(5)"
   ]
  },
  {
   "cell_type": "code",
   "execution_count": 10,
   "metadata": {
    "ExecuteTime": {
     "end_time": "2018-10-18T18:32:21.337808Z",
     "start_time": "2018-10-18T18:32:21.299765Z"
    }
   },
   "outputs": [
    {
     "data": {
      "text/html": [
       "<div>\n",
       "<style scoped>\n",
       "    .dataframe tbody tr th:only-of-type {\n",
       "        vertical-align: middle;\n",
       "    }\n",
       "\n",
       "    .dataframe tbody tr th {\n",
       "        vertical-align: top;\n",
       "    }\n",
       "\n",
       "    .dataframe thead th {\n",
       "        text-align: right;\n",
       "    }\n",
       "</style>\n",
       "<table border=\"1\" class=\"dataframe\">\n",
       "  <thead>\n",
       "    <tr style=\"text-align: right;\">\n",
       "      <th></th>\n",
       "      <th>year</th>\n",
       "      <th>month</th>\n",
       "      <th>pageview_desktop_views</th>\n",
       "      <th>pageview_mobile_views</th>\n",
       "      <th>pageview_all_views</th>\n",
       "      <th>pagecount_desktop_views</th>\n",
       "      <th>pagecount_mobile_views</th>\n",
       "      <th>pagecount_all_views</th>\n",
       "    </tr>\n",
       "  </thead>\n",
       "  <tbody>\n",
       "    <tr>\n",
       "      <th>0</th>\n",
       "      <td>2015</td>\n",
       "      <td>07</td>\n",
       "      <td>3.288755e+09</td>\n",
       "      <td>4.376667e+09</td>\n",
       "      <td>7.665422e+09</td>\n",
       "      <td>5.229226e+09</td>\n",
       "      <td>3.254473e+09</td>\n",
       "      <td>8.483699e+09</td>\n",
       "    </tr>\n",
       "    <tr>\n",
       "      <th>1</th>\n",
       "      <td>2015</td>\n",
       "      <td>08</td>\n",
       "      <td>3.302333e+09</td>\n",
       "      <td>4.332482e+09</td>\n",
       "      <td>7.634815e+09</td>\n",
       "      <td>5.035534e+09</td>\n",
       "      <td>3.268488e+09</td>\n",
       "      <td>8.304022e+09</td>\n",
       "    </tr>\n",
       "    <tr>\n",
       "      <th>2</th>\n",
       "      <td>2015</td>\n",
       "      <td>09</td>\n",
       "      <td>3.170203e+09</td>\n",
       "      <td>4.485492e+09</td>\n",
       "      <td>7.655695e+09</td>\n",
       "      <td>5.409631e+09</td>\n",
       "      <td>3.172430e+09</td>\n",
       "      <td>8.582061e+09</td>\n",
       "    </tr>\n",
       "    <tr>\n",
       "      <th>3</th>\n",
       "      <td>2015</td>\n",
       "      <td>10</td>\n",
       "      <td>3.268499e+09</td>\n",
       "      <td>4.477533e+09</td>\n",
       "      <td>7.746032e+09</td>\n",
       "      <td>5.535704e+09</td>\n",
       "      <td>3.246083e+09</td>\n",
       "      <td>8.781787e+09</td>\n",
       "    </tr>\n",
       "    <tr>\n",
       "      <th>4</th>\n",
       "      <td>2015</td>\n",
       "      <td>11</td>\n",
       "      <td>3.236601e+09</td>\n",
       "      <td>4.287720e+09</td>\n",
       "      <td>7.524321e+09</td>\n",
       "      <td>5.296956e+09</td>\n",
       "      <td>3.218235e+09</td>\n",
       "      <td>8.515191e+09</td>\n",
       "    </tr>\n",
       "  </tbody>\n",
       "</table>\n",
       "</div>"
      ],
      "text/plain": [
       "   year month  pageview_desktop_views  pageview_mobile_views  \\\n",
       "0  2015    07            3.288755e+09           4.376667e+09   \n",
       "1  2015    08            3.302333e+09           4.332482e+09   \n",
       "2  2015    09            3.170203e+09           4.485492e+09   \n",
       "3  2015    10            3.268499e+09           4.477533e+09   \n",
       "4  2015    11            3.236601e+09           4.287720e+09   \n",
       "\n",
       "   pageview_all_views  pagecount_desktop_views  pagecount_mobile_views  \\\n",
       "0        7.665422e+09             5.229226e+09            3.254473e+09   \n",
       "1        7.634815e+09             5.035534e+09            3.268488e+09   \n",
       "2        7.655695e+09             5.409631e+09            3.172430e+09   \n",
       "3        7.746032e+09             5.535704e+09            3.246083e+09   \n",
       "4        7.524321e+09             5.296956e+09            3.218235e+09   \n",
       "\n",
       "   pagecount_all_views  \n",
       "0         8.483699e+09  \n",
       "1         8.304022e+09  \n",
       "2         8.582061e+09  \n",
       "3         8.781787e+09  \n",
       "4         8.515191e+09  "
      ]
     },
     "execution_count": 10,
     "metadata": {},
     "output_type": "execute_result"
    }
   ],
   "source": [
    "# generating single data frame for both pagecount and pageview api.\n",
    "df = pd.merge(pageviews,\n",
    "              pagecounts,\n",
    "              on=['year', 'month'], how='outer')\n",
    "# fill nan with zeroes\n",
    "df = df.fillna(0)\n",
    "df.columns = ['year', 'month', 'pageview_desktop_views','pageview_mobile_views','pageview_all_views','pagecount_desktop_views',\n",
    "              'pagecount_mobile_views', 'pagecount_all_views']\n",
    "df.head(5)"
   ]
  },
  {
   "cell_type": "code",
   "execution_count": 11,
   "metadata": {
    "ExecuteTime": {
     "end_time": "2018-10-18T18:32:21.353786Z",
     "start_time": "2018-10-18T18:32:21.342047Z"
    }
   },
   "outputs": [],
   "source": [
    "# write dataframe to csv locally in data folder.\n",
    "df.to_csv('data/en-wikipedia_traffic_200801-201709.csv', index=False)"
   ]
  },
  {
   "cell_type": "markdown",
   "metadata": {},
   "source": [
    "<br>\n",
    "<a id=\"3\">3. Visualization</a>"
   ]
  },
  {
   "cell_type": "code",
   "execution_count": 15,
   "metadata": {
    "ExecuteTime": {
     "end_time": "2018-10-18T18:37:38.631195Z",
     "start_time": "2018-10-18T18:37:38.048412Z"
    }
   },
   "outputs": [
    {
     "data": {
      "image/png": "[encoded data removed]",
      "text/plain": [
       "<Figure size 1296x576 with 1 Axes>"
      ]
     },
     "metadata": {
      "needs_background": "light"
     },
     "output_type": "display_data"
    }
   ],
   "source": [
    "# reading the csv data generated and plotting respective columns with legends.\n",
    "df = pd.read_csv('data/en-wikipedia_traffic_200801-201709.csv')\n",
    "plt.figure(figsize=(18, 8))\n",
    "\n",
    "df['date'] = df.apply(lambda x:datetime.datetime(int(x['year']), int(x['month']), 1), axis=1) # generate date \n",
    "df = df.replace(0, pd.np.nan) # convert zero values to NAN to exclude them from plots.\n",
    "\n",
    "plt.plot(df.date, df.pageview_all_views/100000)\n",
    "plt.plot(df.date, df.pageview_mobile_views/100000)\n",
    "plt.plot(df.date, df.pageview_desktop_views/100000)\n",
    "\n",
    "plt.plot(df.date, df.pagecount_all_views/100000,'--')\n",
    "plt.plot(df.date, df.pagecount_mobile_views/100000, '--')\n",
    "plt.plot(df.date, df.pagecount_desktop_views/100000,'--')\n",
    "\n",
    "plt.legend([\"PageView All\", \"PageView Mobile\", \"PageView Desktop\", \"PageCount All\", \"PageCount Mobile\", \"PageCount Desktop\"])\n",
    "\n",
    "\n",
    "plt.xlabel(\"Time \\n May 2015: a new pageview definition took effect, which eliminated all crawler traffic, dashed line mark old definition\")\n",
    "plt.ylabel(\"Wikidata Views\")\n",
    "\n",
    "plt.title('Pages view on English Wikipedia x 1,000,000')\n",
    "plt.grid()\n",
    "plt.savefig('wiki_2007-2018_views.png')"
   ]
  },
  {
   "cell_type": "code",
   "execution_count": null,
   "metadata": {},
   "outputs": [],
   "source": []
  }
 ],
 "metadata": {
  "kernelspec": {
   "display_name": "Python 3",
   "language": "python",
   "name": "python3"
  },
  "language_info": {
   "codemirror_mode": {
    "name": "ipython",
    "version": 3
   },
   "file_extension": ".py",
   "mimetype": "text/x-python",
   "name": "python",
   "nbconvert_exporter": "python",
   "pygments_lexer": "ipython3",
   "version": "3.7.0"
  },
  "varInspector": {
   "cols": {
    "lenName": 16,
    "lenType": 16,
    "lenVar": 40
   },
   "kernels_config": {
    "python": {
     "delete_cmd_postfix": "",
     "delete_cmd_prefix": "del ",
     "library": "var_list.py",
     "varRefreshCmd": "print(var_dic_list())"
    },
    "r": {
     "delete_cmd_postfix": ") ",
     "delete_cmd_prefix": "rm(",
     "library": "var_list.r",
     "varRefreshCmd": "cat(var_dic_list()) "
    }
   },
   "types_to_exclude": [
    "module",
    "function",
    "builtin_function_or_method",
    "instance",
    "_Feature"
   ],
   "window_display": false
  }
 },
 "nbformat": 4,
 "nbformat_minor": 2
}
